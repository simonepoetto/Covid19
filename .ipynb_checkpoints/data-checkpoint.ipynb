{
 "cells": [
  {
   "cell_type": "code",
   "execution_count": null,
   "metadata": {},
   "outputs": [],
   "source": [
    "import pathlib\n",
    "import requests\n",
    "\n",
    "DATA_REPOS = {\n",
    "    \"world\": {\n",
    "        \"url\": \"https://raw.githubusercontent.com/CSSEGISandData/COVID-19/master\",\n",
    "        \"streams\": {\n",
    "            \"deaths\": \"{url}/csse_covid_19_data/csse_covid_19_time_series/time_series_covid19_deaths_global.csv\",\n",
    "            \"confirmed\":\"{url}/csse_covid_19_data/csse_covid_19_time_series/time_series_covid19_confirmed_global.csv\",\n",
    "        },\n",
    "    },\n",
    "    \"italy\": {\n",
    "        \"url\": \"https://raw.githubusercontent.com/pcm-dpc/COVID-19/master\",\n",
    "        \"streams\": {\n",
    "            \"andamento-nazionale\": \"{url}/dati-andamento-nazionale/dpc-covid19-ita-andamento-nazionale.csv\",\n",
    "            \"regioni\": \"{url}/dati-regioni/dpc-covid19-ita-regioni.csv\",\n",
    "            \"province\": \"{url}/dati-province/dpc-covid19-ita-province.csv\",\n",
    "        },\n",
    "    },\n",
    "}\n",
    "\n",
    "def download(repo, dataset, path=\".\"):\n",
    "    repo = DATA_REPOS[repo]\n",
    "    base_url = repo[\"url\"]\n",
    "    stream_url = repo[\"streams\"].get(dataset).format(url=base_url)\n",
    "    root_path = pathlib.Path(path)\n",
    "    download_path = root_path / stream_url.rpartition(\"/\")[2]\n",
    "    with requests.get(stream_url) as resp:\n",
    "        with open(download_path, \"wb\") as fp:\n",
    "            fp.write(resp.content)\n",
    "    return str(download_path)"
   ]
  }
 ],
 "metadata": {
  "kernelspec": {
   "display_name": "Python 3",
   "language": "python",
   "name": "python3"
  },
  "language_info": {
   "codemirror_mode": {
    "name": "ipython",
    "version": 3
   },
   "file_extension": ".py",
   "mimetype": "text/x-python",
   "name": "python",
   "nbconvert_exporter": "python",
   "pygments_lexer": "ipython3",
   "version": "3.7.4"
  }
 },
 "nbformat": 4,
 "nbformat_minor": 4
}
